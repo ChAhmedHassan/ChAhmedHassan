{
  "cells": [
    {
      "cell_type": "markdown",
      "metadata": {
        "id": "view-in-github",
        "colab_type": "text"
      },
      "source": [
        "<a href=\"https://colab.research.google.com/github/ChAhmedHassan/ChAhmedHassan/blob/main/BSDSF24M057.ipynb\" target=\"_parent\"><img src=\"https://colab.research.google.com/assets/colab-badge.svg\" alt=\"Open In Colab\"/></a>"
      ]
    },
    {
      "cell_type": "markdown",
      "id": "17173de0",
      "metadata": {
        "id": "17173de0"
      },
      "source": [
        "### Problem 1: Delivery Path Analyzer"
      ]
    },
    {
      "cell_type": "code",
      "execution_count": 1,
      "id": "89522c4b",
      "metadata": {
        "colab": {
          "base_uri": "https://localhost:8080/"
        },
        "id": "89522c4b",
        "outputId": "202ce017-3c8a-4634-fc83-fe170ca0876d"
      },
      "outputs": [
        {
          "output_type": "stream",
          "name": "stdout",
          "text": [
            "Start: Home\n",
            "End: Client\n",
            "Total distance: 15 km\n"
          ]
        }
      ],
      "source": [
        "deliveries = [('Home', '08:00', 0), ('Shop', '08:20', 5), ('Office', '08:50', 3), ('Client', '09:30', 7)]\n",
        "start = deliveries[0][0]\n",
        "end = deliveries[-1][0]\n",
        "total_distance = 0\n",
        "for d in deliveries:\n",
        "    total_distance += d[2]\n",
        "print('Start:', start)\n",
        "print('End:', end)\n",
        "print('Total distance:', total_distance, 'km')"
      ]
    },
    {
      "cell_type": "markdown",
      "id": "f6379d03",
      "metadata": {
        "id": "f6379d03"
      },
      "source": [
        "### Problem 2: Shopping Cart Management"
      ]
    },
    {
      "cell_type": "code",
      "execution_count": 2,
      "id": "1b4b3f8a",
      "metadata": {
        "colab": {
          "base_uri": "https://localhost:8080/"
        },
        "id": "1b4b3f8a",
        "outputId": "4fca5b4e-0e82-4379-f62a-059cd31e39f8"
      },
      "outputs": [
        {
          "output_type": "stream",
          "name": "stdout",
          "text": [
            "Cart: {'Apple': [10, 5]}\n",
            "Total: 50\n"
          ]
        }
      ],
      "source": [
        "cart = {}\n",
        "def add_item(name, price, qty):\n",
        "    cart[name] = [price, qty]\n",
        "def update_item(name, qty):\n",
        "    if name in cart:\n",
        "        cart[name][1] = qty\n",
        "def remove_item(name):\n",
        "    if name in cart:\n",
        "        del cart[name]\n",
        "def total_price():\n",
        "    total = 0\n",
        "    for i in cart:\n",
        "        total += cart[i][0] * cart[i][1]\n",
        "    return total\n",
        "\n",
        "add_item('Apple', 10, 3)\n",
        "add_item('Milk', 50, 2)\n",
        "update_item('Apple', 5)\n",
        "remove_item('Milk')\n",
        "print('Cart:', cart)\n",
        "print('Total:', total_price())"
      ]
    },
    {
      "cell_type": "markdown",
      "id": "17bcaa31",
      "metadata": {
        "id": "17bcaa31"
      },
      "source": [
        "### Problem 3: Student Performance Report"
      ]
    },
    {
      "cell_type": "code",
      "execution_count": 17,
      "id": "432e9ed9",
      "metadata": {
        "colab": {
          "base_uri": "https://localhost:8080/"
        },
        "id": "432e9ed9",
        "outputId": "e04b49b0-8a00-4e69-c088-ce3f2827f251"
      },
      "outputs": [
        {
          "output_type": "stream",
          "name": "stdout",
          "text": [
            "Averages: {'Ali': 85.0, 'Sara': 91.66666666666667, 'John': 68.33333333333333}\n",
            "Top 3: [('Sara', 91.66666666666667), ('Ali', 85.0), ('John', 68.33333333333333)]\n"
          ]
        }
      ],
      "source": [
        "students = {'Ali':[80,90,85], 'Sara':[95,88,92], 'John':[70,60,75]}\n",
        "averages = {}\n",
        "for s in students:\n",
        "    total = 0\n",
        "    for m in students[s]:\n",
        "        total += m\n",
        "    averages[s] = total / len(students[s])\n",
        "print('Averages:', averages)\n",
        "sorted_list = sorted(averages.items(), key=lambda x:x[1], reverse=True)\n",
        "print('Top 3:', sorted_list[:3])"
      ]
    },
    {
      "cell_type": "markdown",
      "id": "56a0c0b0",
      "metadata": {
        "id": "56a0c0b0"
      },
      "source": [
        "### Problem 4: Email Data Processor"
      ]
    },
    {
      "cell_type": "code",
      "execution_count": 4,
      "id": "be5341eb",
      "metadata": {
        "colab": {
          "base_uri": "https://localhost:8080/"
        },
        "id": "be5341eb",
        "outputId": "d80ecea7-aaba-4781-eb71-d2057fd6f03c"
      },
      "outputs": [
        {
          "output_type": "stream",
          "name": "stdout",
          "text": [
            "Valid emails: ['a@gmail.com', 'b@yahoo.com', 'c@gmail.com']\n",
            "Domain counts: {'gmail.com': 2, 'yahoo.com': 1}\n"
          ]
        }
      ],
      "source": [
        "emails = ['a@gmail.com','b@yahoo.com','wrongemail','c@gmail.com']\n",
        "valid = []\n",
        "domains = {}\n",
        "for e in emails:\n",
        "    if '@' in e and '.' in e:\n",
        "        valid.append(e)\n",
        "        domain = e.split('@')[1]\n",
        "        if domain not in domains:\n",
        "            domains[domain] = 1\n",
        "        else:\n",
        "            domains[domain] += 1\n",
        "print('Valid emails:', valid)\n",
        "print('Domain counts:', domains)"
      ]
    },
    {
      "cell_type": "markdown",
      "id": "d5dbb5ba",
      "metadata": {
        "id": "d5dbb5ba"
      },
      "source": [
        "### Problem 5: Friendship Network Analysis"
      ]
    },
    {
      "cell_type": "code",
      "execution_count": 5,
      "id": "b1834406",
      "metadata": {
        "colab": {
          "base_uri": "https://localhost:8080/"
        },
        "id": "b1834406",
        "outputId": "147beacb-c97f-4098-a5c5-3df66823e53f"
      },
      "outputs": [
        {
          "output_type": "stream",
          "name": "stdout",
          "text": [
            "Mutual friends of Ali & Sara: []\n"
          ]
        }
      ],
      "source": [
        "friends = {'Ali':['Sara','John'], 'Sara':['Ali','Tom'], 'John':['Ali'], 'Tom':['Sara']}\n",
        "def mutual(a,b):\n",
        "    both = []\n",
        "    for f in friends[a]:\n",
        "        if f in friends[b]:\n",
        "            both.append(f)\n",
        "    return both\n",
        "print('Mutual friends of Ali & Sara:', mutual('Ali','Sara'))"
      ]
    },
    {
      "cell_type": "markdown",
      "id": "5f59289a",
      "metadata": {
        "id": "5f59289a"
      },
      "source": [
        "### Problem 6: Restaurant Billing System"
      ]
    },
    {
      "cell_type": "code",
      "execution_count": 6,
      "id": "1ecba5a1",
      "metadata": {
        "colab": {
          "base_uri": "https://localhost:8080/"
        },
        "id": "1ecba5a1",
        "outputId": "dbf6adaa-b0d3-4c50-f99a-0c6e38d74562"
      },
      "outputs": [
        {
          "output_type": "stream",
          "name": "stdout",
          "text": [
            "Subtotal: 350\n",
            "Tax: 17.5\n",
            "Tip: 35.0\n",
            "Total: 402.5\n"
          ]
        }
      ],
      "source": [
        "order = {'Burger':200,'Fries':100,'Drink':50}\n",
        "subtotal = 0\n",
        "for i in order:\n",
        "    subtotal += order[i]\n",
        "tax = subtotal * 0.05\n",
        "tip = subtotal * 0.1\n",
        "total = subtotal + tax + tip\n",
        "print('Subtotal:', subtotal)\n",
        "print('Tax:', tax)\n",
        "print('Tip:', tip)\n",
        "print('Total:', total)"
      ]
    },
    {
      "cell_type": "markdown",
      "id": "ba64f116",
      "metadata": {
        "id": "ba64f116"
      },
      "source": [
        "### Problem 7: Transport Schedule Tracker"
      ]
    },
    {
      "cell_type": "code",
      "execution_count": 7,
      "id": "79ec67d2",
      "metadata": {
        "colab": {
          "base_uri": "https://localhost:8080/"
        },
        "id": "79ec67d2",
        "outputId": "d04041f0-58d4-4a01-b962-55b9de65e3ce"
      },
      "outputs": [
        {
          "output_type": "stream",
          "name": "stdout",
          "text": [
            "Fastest segment ends at: A\n",
            "Total stops: 4\n"
          ]
        }
      ],
      "source": [
        "stops = [('Start',0,0),('A',10,5),('B',25,10),('C',40,15)]\n",
        "fastest_speed = 0\n",
        "fastest_stop = ''\n",
        "for i in range(1,len(stops)):\n",
        "    d = stops[i][2]-stops[i-1][2]\n",
        "    t = stops[i][1]-stops[i-1][1]\n",
        "    if t>0:\n",
        "        s = d/t\n",
        "        if s>fastest_speed:\n",
        "            fastest_speed = s\n",
        "            fastest_stop = stops[i][0]\n",
        "print('Fastest segment ends at:', fastest_stop)\n",
        "print('Total stops:', len(stops))"
      ]
    },
    {
      "cell_type": "markdown",
      "id": "4c2d11a9",
      "metadata": {
        "id": "4c2d11a9"
      },
      "source": [
        "### Problem 8: Library Catalog System"
      ]
    },
    {
      "cell_type": "code",
      "execution_count": 8,
      "id": "32aed981",
      "metadata": {
        "colab": {
          "base_uri": "https://localhost:8080/"
        },
        "id": "32aed981",
        "outputId": "9cfe8a60-b7d2-4c33-c788-193f735755fb"
      },
      "outputs": [
        {
          "output_type": "stream",
          "name": "stdout",
          "text": [
            "Books per author: {'AuthorA': 2, 'AuthorB': 1}\n",
            "Author with most books: AuthorA\n"
          ]
        }
      ],
      "source": [
        "books = [('Book1','AuthorA'),('Book2','AuthorA'),('Book3','AuthorB')]\n",
        "authors = {}\n",
        "for b in books:\n",
        "    a = b[1]\n",
        "    if a not in authors:\n",
        "        authors[a] = 1\n",
        "    else:\n",
        "        authors[a] += 1\n",
        "print('Books per author:', authors)\n",
        "max_books = 0\n",
        "top = ''\n",
        "for a in authors:\n",
        "    if authors[a]>max_books:\n",
        "        max_books = authors[a]\n",
        "        top = a\n",
        "print('Author with most books:', top)"
      ]
    },
    {
      "cell_type": "markdown",
      "id": "d6c8dec3",
      "metadata": {
        "id": "d6c8dec3"
      },
      "source": [
        "### Problem 9: Sports Tournament Statistics"
      ]
    },
    {
      "cell_type": "code",
      "execution_count": 9,
      "id": "c2b1e136",
      "metadata": {
        "colab": {
          "base_uri": "https://localhost:8080/"
        },
        "id": "c2b1e136",
        "outputId": "f7ae791c-a18e-4cee-e7a8-6c09b210b9de"
      },
      "outputs": [
        {
          "output_type": "stream",
          "name": "stdout",
          "text": [
            "Scores: {'A': 3, 'B': 1, 'C': 5}\n",
            "Winning team: C\n"
          ]
        }
      ],
      "source": [
        "matches = [('A','B',2,1),('A','C',1,3),('B','C',0,2)]\n",
        "scores = {}\n",
        "for m in matches:\n",
        "    if m[0] not in scores: scores[m[0]] = 0\n",
        "    if m[1] not in scores: scores[m[1]] = 0\n",
        "    scores[m[0]] += m[2]\n",
        "    scores[m[1]] += m[3]\n",
        "print('Scores:', scores)\n",
        "max_team = ''\n",
        "max_score = 0\n",
        "for t in scores:\n",
        "    if scores[t]>max_score:\n",
        "        max_team = t\n",
        "        max_score = scores[t]\n",
        "print('Winning team:', max_team)"
      ]
    },
    {
      "cell_type": "markdown",
      "id": "92b77df5",
      "metadata": {
        "id": "92b77df5"
      },
      "source": [
        "### Problem 10: Weather Data Analyzer"
      ]
    },
    {
      "cell_type": "code",
      "execution_count": 10,
      "id": "5771a645",
      "metadata": {
        "colab": {
          "base_uri": "https://localhost:8080/"
        },
        "id": "5771a645",
        "outputId": "31300860-c07a-4929-b5d6-4dd50e31fcd8"
      },
      "outputs": [
        {
          "output_type": "stream",
          "name": "stdout",
          "text": [
            "Average temp: 27.666666666666668\n",
            "Hottest day: (2, 30, 'hot')\n"
          ]
        }
      ],
      "source": [
        "weather = [(1,25,'sunny'),(2,30,'hot'),(3,28,'sunny')]\n",
        "total = 0\n",
        "for w in weather:\n",
        "    total += w[1]\n",
        "avg = total/len(weather)\n",
        "hottest = weather[0]\n",
        "for w in weather:\n",
        "    if w[1]>hottest[1]:\n",
        "        hottest = w\n",
        "print('Average temp:', avg)\n",
        "print('Hottest day:', hottest)"
      ]
    },
    {
      "cell_type": "markdown",
      "id": "48c68a39",
      "metadata": {
        "id": "48c68a39"
      },
      "source": [
        "### Problem 11: Employee Attendance System"
      ]
    },
    {
      "cell_type": "code",
      "execution_count": 11,
      "id": "30c45e49",
      "metadata": {
        "colab": {
          "base_uri": "https://localhost:8080/"
        },
        "id": "30c45e49",
        "outputId": "0a79fb15-2ffe-4ba5-b77d-ff914b8026f7"
      },
      "outputs": [
        {
          "output_type": "stream",
          "name": "stdout",
          "text": [
            "Attendance %: {'Ali': 66.66666666666666, 'Sara': 100.0, 'John': 33.33333333333333}\n"
          ]
        }
      ],
      "source": [
        "attendance = {'Ali':['P','A','P'],'Sara':['P','P','P'],'John':['A','A','P']}\n",
        "percent = {}\n",
        "for e in attendance:\n",
        "    p = attendance[e].count('P')\n",
        "    percent[e] = (p/len(attendance[e]))*100\n",
        "print('Attendance %:', percent)"
      ]
    },
    {
      "cell_type": "markdown",
      "id": "ec377bda",
      "metadata": {
        "id": "ec377bda"
      },
      "source": [
        "### Problem 12: Fitness Tracker"
      ]
    },
    {
      "cell_type": "code",
      "execution_count": 12,
      "id": "246df393",
      "metadata": {
        "colab": {
          "base_uri": "https://localhost:8080/"
        },
        "id": "246df393",
        "outputId": "31d17361-50a2-45c6-e6f4-92f8f7201a1d"
      },
      "outputs": [
        {
          "output_type": "stream",
          "name": "stdout",
          "text": [
            "Ali Total time: 50 Total calories: 300\n",
            "Sara Total time: 60 Total calories: 400\n"
          ]
        }
      ],
      "source": [
        "users = {'Ali':[('run',30,200),('walk',20,100)],'Sara':[('cycle',60,400)]}\n",
        "for u in users:\n",
        "    total_cal = 0\n",
        "    total_time = 0\n",
        "    for a in users[u]:\n",
        "        total_time += a[1]\n",
        "        total_cal += a[2]\n",
        "    print(u, 'Total time:', total_time, 'Total calories:', total_cal)"
      ]
    },
    {
      "cell_type": "markdown",
      "id": "2d4ae36a",
      "metadata": {
        "id": "2d4ae36a"
      },
      "source": [
        "### Problem 13: Online Quiz Evaluator"
      ]
    },
    {
      "cell_type": "code",
      "execution_count": 13,
      "id": "34043917",
      "metadata": {
        "colab": {
          "base_uri": "https://localhost:8080/"
        },
        "id": "34043917",
        "outputId": "bed5ccdd-2e9d-425c-ca77-afbc705c0b73"
      },
      "outputs": [
        {
          "output_type": "stream",
          "name": "stdout",
          "text": [
            "Average: 66.66666666666667\n",
            "Passed: ['Ali', 'John']\n"
          ]
        }
      ],
      "source": [
        "students = {'Ali':85,'Sara':45,'John':70}\n",
        "total = 0\n",
        "for s in students:\n",
        "    total += students[s]\n",
        "avg = total/len(students)\n",
        "passed = []\n",
        "for s in students:\n",
        "    if students[s]>=50:\n",
        "        passed.append(s)\n",
        "print('Average:', avg)\n",
        "print('Passed:', passed)"
      ]
    },
    {
      "cell_type": "markdown",
      "id": "cb9e174b",
      "metadata": {
        "id": "cb9e174b"
      },
      "source": [
        "### Problem 14: Hotel Booking Management"
      ]
    },
    {
      "cell_type": "code",
      "execution_count": 14,
      "id": "aee83a92",
      "metadata": {
        "colab": {
          "base_uri": "https://localhost:8080/"
        },
        "id": "aee83a92",
        "outputId": "c085e1a5-46dc-4191-b3f1-3d0689d62596"
      },
      "outputs": [
        {
          "output_type": "stream",
          "name": "stdout",
          "text": [
            "Booked 101 for Ali\n",
            "Bill for Ali : 4000\n"
          ]
        }
      ],
      "source": [
        "rooms = {101:None,102:None,103:None}\n",
        "rates = {101:2000,102:3000,103:4000}\n",
        "def book(r,name,days):\n",
        "    if rooms[r]==None:\n",
        "        rooms[r]=(name,days)\n",
        "        print('Booked',r,'for',name)\n",
        "    else:\n",
        "        print('Room not available')\n",
        "def checkout(r):\n",
        "    if rooms[r]!=None:\n",
        "        g,d=rooms[r]\n",
        "        cost=rates[r]*d\n",
        "        rooms[r]=None\n",
        "        print('Bill for',g,':',cost)\n",
        "book(101,'Ali',2)\n",
        "checkout(101)"
      ]
    },
    {
      "cell_type": "markdown",
      "id": "0399f191",
      "metadata": {
        "id": "0399f191"
      },
      "source": [
        "### Problem 15: Expense and Budget Tracker"
      ]
    },
    {
      "cell_type": "code",
      "execution_count": 15,
      "id": "72996a36",
      "metadata": {
        "colab": {
          "base_uri": "https://localhost:8080/"
        },
        "id": "72996a36",
        "outputId": "3ec8203c-1b64-45ea-860b-4a78511023cf"
      },
      "outputs": [
        {
          "output_type": "stream",
          "name": "stdout",
          "text": [
            "Totals: {'food': 700, 'travel': 300}\n",
            "food over budget\n",
            "travel within budget\n"
          ]
        }
      ],
      "source": [
        "expenses=[('food',500),('travel',300),('food',200)]\n",
        "totals={}\n",
        "for e in expenses:\n",
        "    c=e[0]\n",
        "    a=e[1]\n",
        "    if c not in totals:\n",
        "        totals[c]=a\n",
        "    else:\n",
        "        totals[c]+=a\n",
        "print('Totals:',totals)\n",
        "budget={'food':600,'travel':400}\n",
        "for b in budget:\n",
        "    if totals[b]>budget[b]:\n",
        "        print(b,'over budget')\n",
        "    else:\n",
        "        print(b,'within budget')"
      ]
    },
    {
      "cell_type": "markdown",
      "id": "cf414aa2",
      "metadata": {
        "id": "cf414aa2"
      },
      "source": [
        "### Problem 16: Smart Business Manager"
      ]
    },
    {
      "cell_type": "code",
      "execution_count": 16,
      "id": "f9c64bfc",
      "metadata": {
        "colab": {
          "base_uri": "https://localhost:8080/"
        },
        "id": "f9c64bfc",
        "outputId": "cf3d501e-ac10-42df-919f-567b68b255e2"
      },
      "outputs": [
        {
          "output_type": "stream",
          "name": "stdout",
          "text": [
            "('2025-10-01', 'expense', 200, 'office')\n",
            "('2025-10-02', 'income', 500, 'sales')\n"
          ]
        }
      ],
      "source": [
        "transactions=[]\n",
        "def add_trans(date,t,amt,cat):\n",
        "    transactions.append((date,t,amt,cat))\n",
        "def show():\n",
        "    for tr in transactions:\n",
        "        print(tr)\n",
        "add_trans('2025-10-01','expense',200,'office')\n",
        "add_trans('2025-10-02','income',500,'sales')\n",
        "show()"
      ]
    },
    {
      "cell_type": "code",
      "execution_count": 16,
      "id": "b5f78f0c-dc4f-4d36-9641-2ce35b463043",
      "metadata": {
        "id": "b5f78f0c-dc4f-4d36-9641-2ce35b463043"
      },
      "outputs": [],
      "source": []
    }
  ],
  "metadata": {
    "kernelspec": {
      "display_name": "Python 3 (ipykernel)",
      "language": "python",
      "name": "python3"
    },
    "language_info": {
      "codemirror_mode": {
        "name": "ipython",
        "version": 3
      },
      "file_extension": ".py",
      "mimetype": "text/x-python",
      "name": "python",
      "nbconvert_exporter": "python",
      "pygments_lexer": "ipython3",
      "version": "3.13.1"
    },
    "colab": {
      "provenance": [],
      "include_colab_link": true
    }
  },
  "nbformat": 4,
  "nbformat_minor": 5
}